{
  "cells": [
    {
      "cell_type": "markdown",
      "metadata": {
        "id": "F0Wut2G5kz2Z"
      },
      "source": [
        "\n",
        "# NEW Muscle Analysis Using AI\n",
        "\n",
        "---\n",
        "\n",
        "This Python Code aims to replace the manual work of measuring muscle raw data from ImageJ with an efficient muscle segmentation algorithm using the power of AI.\n",
        "\n",
        "---\n",
        "\n",
        "## Use GPU Acceleration\n",
        "\n",
        "If you are running this notebook in Google Colab, navigate to `Edit` -> `Notebook settings` -> `Hardware accelerator`, set it to `T4 GPU`, and then click `Save`. This will ensure your notebook uses a GPU, which will significantly speed up model run times."
      ]
    },
    {
      "cell_type": "markdown",
      "metadata": {
        "id": "G9AHMiHlVfaW"
      },
      "source": [
        "##Environment Setup & Package Installation"
      ]
    },
    {
      "cell_type": "markdown",
      "metadata": {
        "id": "ZRHPl9qfO147"
      },
      "source": [
        "Only need to be run once when you first opened this python document."
      ]
    },
    {
      "cell_type": "code",
      "execution_count": null,
      "metadata": {
        "collapsed": true,
        "id": "zBxhmlosy9tz"
      },
      "outputs": [],
      "source": [
        "!nvidia-smi\n",
        "\n",
        "import os\n",
        "HOME = os.getcwd()\n",
        "print(\"HOME:\", HOME)\n",
        "\n",
        "!pip install -q 'git+https://github.com/facebookresearch/segment-anything.git'\n",
        "\n",
        "!pip install -q jupyter_bbox_widget roboflow dataclasses-json supervision\n",
        "\n",
        "!mkdir -p {HOME}/weights\n",
        "!wget -q https://dl.fbaipublicfiles.com/segment_anything/sam_vit_h_4b8939.pth -P {HOME}/weights\n",
        "\n",
        "CHECKPOINT_PATH = os.path.join(HOME, \"weights\", \"sam_vit_h_4b8939.pth\")\n",
        "print(CHECKPOINT_PATH, \"; exist:\", os.path.isfile(CHECKPOINT_PATH))\n",
        "\n",
        "import torch\n",
        "\n",
        "DEVICE = torch.device('cuda:0' if torch.cuda.is_available() else 'cpu')\n",
        "MODEL_TYPE = \"vit_h\"\n",
        "\n",
        "from segment_anything import sam_model_registry, SamAutomaticMaskGenerator, SamPredictor\n",
        "\n",
        "sam = sam_model_registry[MODEL_TYPE](checkpoint=CHECKPOINT_PATH).to(device=DEVICE)\n",
        "mask_generator = SamAutomaticMaskGenerator(sam)\n",
        "\n",
        "!pip install aicsimageio\n",
        "!pip install aicspylibczi\n",
        "!pip install tifffile\n",
        "!mkdir -p {HOME}/mask_image\n",
        "image_directory = '/content/mask_image'\n",
        "!mkdir -p {HOME}/mask_dir\n",
        "mask_dir = '/content/mask_dir'\n",
        "!mkdir -p {HOME}/image_dir\n",
        "image_dir = '/content/image_dir'\n",
        "!mkdir -p {HOME}/voronoi_dir\n",
        "voronoi_dir = '/content/voronoi_dir'\n",
        "from aicsimageio import AICSImage\n",
        "from aicsimageio.readers import CziReader\n",
        "import numpy as np\n",
        "from PIL import Image\n",
        "import tifffile\n",
        "import supervision as sv\n",
        "import shutil\n",
        "from io import BytesIO\n",
        "import base64\n",
        "from scipy.ndimage import binary_opening, binary_fill_holes, binary_erosion\n",
        "from skimage.measure import label\n",
        "from scipy import ndimage as ndi\n",
        "from skimage.feature import peak_local_max\n",
        "from skimage.segmentation import watershed\n",
        "from skimage.color import label2rgb"
      ]
    },
    {
      "cell_type": "markdown",
      "metadata": {
        "id": "uN1jSqzdX0_Z"
      },
      "source": [
        "##Load Muscle Python code and Data Output Template Excel Sheet"
      ]
    },
    {
      "cell_type": "markdown",
      "metadata": {
        "id": "pMghWxRLn8LC"
      },
      "source": [
        "There are two files that need to be uploaded here: 1) Muscle Analysis Template Excel Sheet and 2) the MuscleAnalysis.py python code.\n",
        "\n",
        "Note: I updated the MuscleAnalysis.py python code to accomodate for this new algorithm. It is different from the old one we used! Please download the new MuscleAnalysis.py from the same folder containing this code file on google drive, and upload it here."
      ]
    },
    {
      "cell_type": "code",
      "execution_count": null,
      "metadata": {
        "id": "qqUxKGr4Xt9U"
      },
      "outputs": [],
      "source": [
        "!pip install xlsxwriter\n",
        "from google.colab import files\n",
        "for x in range(2):\n",
        "  print('Upload file number', x + 1)\n",
        "  files.upload()\n",
        "import MuscleAnalysis as ma\n",
        "import pandas as pd\n",
        "import xlsxwriter\n",
        "from openpyxl import Workbook\n",
        "from openpyxl import load_workbook\n",
        "import subprocess\n",
        "import seaborn as sns"
      ]
    },
    {
      "cell_type": "markdown",
      "metadata": {
        "id": "MUY3h52lCF5L"
      },
      "source": [
        "## Helper Functions"
      ]
    },
    {
      "cell_type": "code",
      "execution_count": null,
      "metadata": {
        "id": "hF58LI9vweF1"
      },
      "outputs": [],
      "source": [
        "mask_predictor = SamPredictor(sam)\n",
        "def im_adjust(I, thres=[1, 99, True], autoscale=None):\n",
        "    # compute percentile: remove too big or too small values\n",
        "    # thres: [thres_low, thres_high, percentile]\n",
        "    if thres[2]:\n",
        "        I_low, I_high = np.percentile(I.reshape(-1), thres[:2])\n",
        "    else:\n",
        "        I_low, I_high = thres[0], thres[1]\n",
        "    # thresholding\n",
        "    I[I > I_high] = I_high\n",
        "    I[I < I_low] = I_low\n",
        "    if autoscale is not None:\n",
        "        # scale to 0-1\n",
        "        I = (I.astype(float) - I_low) / (I_high - I_low)\n",
        "        if autoscale == \"uint8\":\n",
        "            # convert it to uint8\n",
        "            I = (I * 255).astype(np.uint8)\n",
        "    return I\n",
        "\n",
        "def show_points(coords, labels, ax, marker_size=375):\n",
        "    pos_points = coords[labels==1]\n",
        "    neg_points = coords[labels==0]\n",
        "    ax.scatter(pos_points[:, 0], pos_points[:, 1], color='green', marker='*', s=marker_size, edgecolor='white', linewidth=1.25)\n",
        "    ax.scatter(neg_points[:, 0], neg_points[:, 1], color='red', marker='*', s=marker_size, edgecolor='white', linewidth=1.25)\n",
        "\n",
        "def show_mask(mask, ax, random_color=False):\n",
        "    if random_color:\n",
        "        color = np.concatenate([np.random.random(3), np.array([0.6])], axis=0)\n",
        "    else:\n",
        "        color = np.array([30/255, 144/255, 255/255, 0.6])\n",
        "    h, w = mask.shape[-2:]\n",
        "    mask_image = mask.reshape(h, w, 1) * color.reshape(1, 1, -1)\n",
        "    ax.imshow(mask_image)\n",
        "\n",
        "def empty_directory(directory):\n",
        "    for item in os.listdir(directory):\n",
        "        item_path = os.path.join(directory, item)\n",
        "        if os.path.isfile(item_path) or os.path.islink(item_path):\n",
        "            os.unlink(item_path)  #Remove files and links\n",
        "        elif os.path.isdir(item_path):\n",
        "            shutil.rmtree(item_path)\n",
        "\n",
        "def show_anns(anns):\n",
        "    if len(anns) == 0:\n",
        "        return\n",
        "    sorted_anns = sorted(anns, key=(lambda x: x['area']), reverse=True)\n",
        "    ax = plt.gca()\n",
        "    ax.set_autoscale_on(False)\n",
        "\n",
        "    img = np.ones((sorted_anns[0]['segmentation'].shape[0], sorted_anns[0]['segmentation'].shape[1], 4))\n",
        "    img[:,:,3] = 0\n",
        "    for ann in sorted_anns:\n",
        "        m = ann['segmentation']\n",
        "        color_mask = np.concatenate([np.random.random(3), [0.35]])\n",
        "        img[m] = color_mask\n",
        "    ax.imshow(img)\n",
        "\n",
        "def find_bounding_box(left_peak, right_peak, mask, mask_width):\n",
        "  average_top = []\n",
        "  average_bottom = []\n",
        "  for i in range(left_peak, right_peak):\n",
        "    top = 0\n",
        "    while mask[top, i] == 0:\n",
        "      top += 1\n",
        "    average_top.append(top)\n",
        "    bottom = top + mask_width[i]\n",
        "    average_bottom.append(bottom)\n",
        "  return sum(average_top)/len(average_top), sum(average_bottom)/len(average_bottom)\n",
        "\n",
        "def show_box(box, ax):\n",
        "    x0, y0 = box[0], box[1]\n",
        "    w, h = box[2] - box[0], box[3] - box[1]\n",
        "    ax.add_patch(plt.Rectangle((x0, y0), w, h, edgecolor='green', facecolor=(0,0,0,0), lw=2))\n",
        "\n",
        "#Detecting bad mask:\n",
        "#\n",
        "def bad_mask(j, mask_width, left_peak_to_edge, right_peak_to_edge):\n",
        "  left_overflow = sum(mask_width[:j+15])\n",
        "  right_overflow = sum(mask_width[len(mask_width)-16-j:])\n",
        "  if (left_overflow > 0) or (right_overflow > 0):\n",
        "    return True\n",
        "\n",
        "  if left_peak_to_edge > 600 or right_peak_to_edge > 600 or left_peak_to_edge < 0 or right_peak_to_edge < 0:\n",
        "    return True\n",
        "  return False\n",
        "\n",
        "#Find high oscillating area\n",
        "def oscillating(mask_width):\n",
        "  window_size = 10\n",
        "  smoothed_y = np.convolve(mask_width, np.ones(window_size)/window_size, mode='same')\n",
        "\n",
        "  # Calculate local standard deviation\n",
        "  window_size = 25  # You can adjust the window size\n",
        "  local_std = np.array([np.std(mask_width[i:i+window_size]) for i in range(len(mask_width)-window_size+1)])\n",
        "  local_std = np.pad(local_std, (window_size//2, window_size//2-1), mode='edge')\n",
        "\n",
        "  # Detect abnormal oscillations\n",
        "  abnormal_indices = np.where(local_std > 100)[0]\n",
        "  return abnormal_indices\n",
        "\n",
        "\n",
        "def new_bad_mask(j, mask_width, left_peak_to_edge, right_peak_to_edge):\n",
        "  abnormal = oscillating(mask_width)\n",
        "  print(abnormal)\n",
        "  if len(abnormal) > 0:\n",
        "    return True\n",
        "  return False\n",
        "\n",
        "#Calculate left and right peak index, and calculate distance of left and right peak to image edge\n",
        "def calc_edge(mask_width):\n",
        "  left = mask_width[:len(mask_width)//2]\n",
        "  right = mask_width[len(mask_width)//2:]\n",
        "  left_peak_index = mask_width.index(max(left))\n",
        "  right_peak_index = len(left) + right.index(max(right))\n",
        "  edge_left = 0\n",
        "  edge_right = 0\n",
        "  for i in range(len(mask_width)-1):\n",
        "    if mask_width[0] != 0:\n",
        "      edge_left = 0\n",
        "      break\n",
        "    elif mask_width[i] == 0 and mask_width[i+1] != 0:\n",
        "      edge_left = i\n",
        "      break\n",
        "  for i in range(len(mask_width)-1, 0, -1):\n",
        "    if mask_width[len(mask_width)-1] != 0:\n",
        "      edge_right = len(mask_width)-1\n",
        "      break\n",
        "    elif mask_width[i] == 0 and mask_width[i-1] != 0:\n",
        "      edge_right = i\n",
        "      break\n",
        "  return left_peak_index, right_peak_index, edge_left, edge_right, left_peak_index - edge_left, edge_right - right_peak_index\n",
        "\n",
        "def set_mask(image_rgb, j, input_box = None, input_points = None):\n",
        "  mask_predictor.set_image(image_rgb)\n",
        "\n",
        "  #Give Positive and/or Negative Point Prompt\n",
        "  if input_points is None:\n",
        "    input_point = np.array([[image_rgb.shape[1]//2, image_rgb.shape[0]//2], [j, image_rgb.shape[0]//2], [image_rgb.shape[1] - j, image_rgb.shape[0]//2]])\n",
        "    input_label = np.array([1,0,0])\n",
        "  else:\n",
        "    input_point = np.array([[input_points[0], input_points[1]]])\n",
        "    input_label = np.array([1])\n",
        "\n",
        "  #Predict Mask from Point Prompts\n",
        "  _, scores, logits = mask_predictor.predict(\n",
        "    point_coords=input_point,\n",
        "    point_labels=input_label,\n",
        "    multimask_output=False,\n",
        "  )\n",
        "  mask_input = logits[np.argmax(scores), :, :]  # Choose the model's best mask\n",
        "  masks, _, _ = mask_predictor.predict(\n",
        "    point_coords=input_point,\n",
        "    point_labels=input_label,\n",
        "    mask_input=mask_input[None, :, :],\n",
        "    box = input_box,\n",
        "    multimask_output=False,\n",
        "  )\n",
        "  return masks, scores, input_point, input_label\n",
        "\n",
        "def encode_image(image_array):\n",
        "    #with open(filepath, 'rb') as f:\n",
        "        #image_bytes = f.read()\n",
        "    image = Image.fromarray(image_array)\n",
        "\n",
        "    # Save the image to a buffer in JPEG format\n",
        "    buffer = BytesIO()\n",
        "    image.save(buffer, format=\"JPEG\")\n",
        "    buffer.seek(0)\n",
        "\n",
        "    # Read the image data from the buffer and encode it in Base64\n",
        "    image_bytes = buffer.read()\n",
        "    encoded = str(base64.b64encode(image_bytes), 'utf-8')\n",
        "    return \"data:image/jpg;base64,\"+encoded\n",
        "\n",
        "def merge_close_coords(coords, threshold=10):\n",
        "    merged_coords = []\n",
        "    used = np.zeros(len(coords), dtype=bool)\n",
        "\n",
        "    for i in range(len(coords)):\n",
        "        if used[i]:\n",
        "            continue\n",
        "        close_points = [coords[i]]\n",
        "        used[i] = True\n",
        "\n",
        "        for j in range(i + 1, len(coords)):\n",
        "            if used[j]:\n",
        "                continue\n",
        "            if np.linalg.norm(np.array(coords[i]) - np.array(coords[j])) < threshold:\n",
        "                close_points.append(coords[j])\n",
        "                used[j] = True\n",
        "\n",
        "        avg_point = np.mean(close_points, axis=0)\n",
        "        merged_coords.append(list(avg_point))\n",
        "\n",
        "    return merged_coords\n",
        "\n",
        "def find_contour_points(binary_mask):\n",
        "    # Find contours in the binary mask\n",
        "    contours, _ = cv2.findContours(binary_mask.astype(np.uint8), cv2.RETR_EXTERNAL, cv2.CHAIN_APPROX_NONE)\n",
        "    # Extract contour points\n",
        "    contour_points = []\n",
        "    for contour in contours:\n",
        "        for point in contour:\n",
        "            contour_points.append(point[0])\n",
        "    return contour_points\n",
        "\n",
        "def find_rough_contour(binary_mask):\n",
        "  # Find contours in the binary mask\n",
        "    contours, _ = cv2.findContours(binary_mask.astype(np.uint8), cv2.RETR_EXTERNAL, cv2.CHAIN_APPROX_SIMPLE)\n",
        "    # Extract contour points\n",
        "    contour_points = []\n",
        "    for contour in contours:\n",
        "        for point in contour:\n",
        "            contour_points.append(point[0])\n",
        "    return contour_points\n",
        "\n",
        "def find_distance(point1, point2):\n",
        "    return np.sqrt((point1[0] - point2[0])**2 + (point1[1] - point2[1])**2)\n",
        "\n",
        "def colorize_channel(channel, color):\n",
        "    colored_image = np.zeros((channel.shape[0], channel.shape[1], 3), dtype=np.uint8)\n",
        "\n",
        "    if color == 'magenta':\n",
        "        # Magenta (R + B)\n",
        "        colored_image[:, :, 0] = channel  # Red\n",
        "        colored_image[:, :, 2] = channel  # Blue\n",
        "    elif color == 'green':\n",
        "        # Green\n",
        "        colored_image[:, :, 1] = channel  # Green\n",
        "    elif color == 'white':\n",
        "        # White (R + G + B)\n",
        "        colored_image[:, :, 0] = channel  # Red\n",
        "        colored_image[:, :, 1] = channel  # Green\n",
        "        colored_image[:, :, 2] = channel  # Blue\n",
        "\n",
        "    return colored_image"
      ]
    },
    {
      "cell_type": "markdown",
      "metadata": {
        "id": "JLtlqE0gOSEE"
      },
      "source": [
        "##Connect to Google Drive"
      ]
    },
    {
      "cell_type": "markdown",
      "metadata": {
        "id": "zRAUuMw7ZJgT"
      },
      "source": [
        "In \"My Drive\" of your google drive, create a folder named \"Muscle_data\". Then upload image folder containing the images you want to analyze to this newly created \"Muscle_data\" folder. The folder must only contains czi images. No other files types or subfolders within the folder uploaded."
      ]
    },
    {
      "cell_type": "code",
      "execution_count": null,
      "metadata": {
        "id": "cSh1p-7gOCgL"
      },
      "outputs": [],
      "source": [
        "from google.colab import drive\n",
        "drive.mount('/content/drive')\n",
        "base_directory = '/content/drive/MyDrive/Muscle_data'"
      ]
    },
    {
      "cell_type": "markdown",
      "metadata": {
        "id": "vGK6s_H_ZjXr"
      },
      "source": [
        "The only thing you need to change below is changing \"folder_name\" to the name of the folder you uploaded onto \"Muscle_data\" folder. Spelling must be exactly the same and capitalization also matters!"
      ]
    },
    {
      "cell_type": "code",
      "execution_count": null,
      "metadata": {
        "collapsed": true,
        "id": "I7jKj4t3sf4f"
      },
      "outputs": [],
      "source": [
        "import matplotlib.pyplot as plt\n",
        "import cv2\n",
        "\n",
        "#define a list each genotype subfolder contained in the larger folder\n",
        "genotype = []\n",
        "folder_name = 'mcherry RNAi rep 2'\n",
        "dfo = '/content/Muscle Analysis Template.xlsx'\n",
        "genotype_name = folder_name\n",
        "# Function to read and store images from a sub-folder\n",
        "def read_and_store_images(sub_folder, image_list):\n",
        "    empty_directory(image_dir)\n",
        "    folder_path = os.path.join(base_directory, sub_folder)\n",
        "    filename = os.listdir(folder_path)\n",
        "    sorted_filenames = sorted(filename, key=lambda x: (int(x.split()[1].split('.')[0]), int(x.split()[1].split('.')[1])))\n",
        "    a_animal = [0]\n",
        "    for i in range(1, len(sorted_filenames)):\n",
        "        prev_animal = int(sorted_filenames[i-1].split()[1].split('.')[0])\n",
        "        curr_animal = int(sorted_filenames[i].split()[1].split('.')[0])\n",
        "        if prev_animal != curr_animal:\n",
        "            a_animal.append(i * 2)\n",
        "\n",
        "    for filename in sorted_filenames:\n",
        "        if filename.endswith('.czi'):\n",
        "            print(filename)\n",
        "            file_path = os.path.join(folder_path, filename)\n",
        "            img = AICSImage(file_path)\n",
        "            channel_img = []\n",
        "            for c in range(img.shape[1]):\n",
        "              image = img.get_image_data(\"ZYX\", C=c)\n",
        "              image = np.max(image, axis = 0)\n",
        "              channel_img.append(cv2.rotate(image, cv2.ROTATE_90_COUNTERCLOCKWISE))\n",
        "            stacked_image = np.stack(channel_img, axis=-1)\n",
        "            uint8_stacked = im_adjust(stacked_image, autoscale = 'uint8')\n",
        "\n",
        "\n",
        "            image_list.append(uint8_stacked)\n",
        "            base_filename = os.path.splitext(filename)[0]\n",
        "\n",
        "            tiff_file_path = os.path.join(image_dir, f'{base_filename}.tiff')\n",
        "            tifffile.imwrite(tiff_file_path, uint8_stacked)\n",
        "    return a_animal\n",
        "#Change name in parenthesis to the name of the genotype folder stored in google drive\n",
        "#Spelling and capitalizations matter!\n",
        "a_animal = read_and_store_images(folder_name, genotype)"
      ]
    },
    {
      "cell_type": "markdown",
      "metadata": {
        "id": "9rU9XWo9GZwW"
      },
      "source": [
        "##Cell Border Segmentation"
      ]
    },
    {
      "cell_type": "markdown",
      "metadata": {
        "id": "NyQHxuNUaBFt"
      },
      "source": [
        "The code below is the first important step in this analysis: muscle cell border segmentation. Each muscle image would be run through a loop, and a cell border mask output would be printed onto each image and displayed below. Again, AI is not 100% accurate, so mistakes can happen! (Still trying to improve). Therefore, along with each image output, an image index would also be printed below each image. If you noticed that a cell border mask is incorrect, take note of that image index, and below there would be a code where you need to enter this image index to manually adjust the cell border mask.\n",
        "\n",
        "Note: if the image contain a dystrophin channel, then set the dystrophin variable below to 1"
      ]
    },
    {
      "cell_type": "code",
      "execution_count": null,
      "metadata": {
        "id": "arUQGMf_1vhg"
      },
      "outputs": [],
      "source": [
        "from scipy.ndimage import binary_opening, binary_fill_holes, binary_closing\n",
        "\n",
        "#set dystrophin to 1 if the image contain a dytrophin channel\n",
        "dystrophin = 0\n",
        "\n",
        "empty_directory(image_directory)\n",
        "empty_directory(mask_dir)\n",
        "\n",
        "j = 15\n",
        "dir_name = f\"n_point_xcoordinate:{j}\"\n",
        "full_directory = os.path.join(image_directory, dir_name)\n",
        "os.makedirs(full_directory, exist_ok = True)\n",
        "area = []\n",
        "area_pixel = []\n",
        "length = []\n",
        "bad_image_index = []\n",
        "contour = []\n",
        "voronoi_contour = []\n",
        "#Loop through each image in folder\n",
        "for k, image in enumerate(genotype):\n",
        "\n",
        "  bad_image = False\n",
        "  image_rgb = cv2.cvtColor(image[:,:,dystrophin], cv2.COLOR_BGR2RGB)\n",
        "\n",
        "  #Set initial mask\n",
        "  masks, scores, input_point, input_label = set_mask(image_rgb, j)\n",
        "  mask_width = []\n",
        "\n",
        "  #Loop through each images for mask calculation\n",
        "  for i, (mask, score) in enumerate(zip(masks, scores)):\n",
        "\n",
        "  #Get mask width at each x-coord across the image\n",
        "    mask = binary_closing(mask, np.ones([5,5]), iterations = 1)\n",
        "    mask = binary_opening(mask, np.ones([5,5]), iterations = 1)\n",
        "    binary_mask0 = mask > 0\n",
        "\n",
        "    for verticals in range(0, image.shape[1]):\n",
        "      mask_width.append(np.sum(binary_mask0[:, verticals]))\n",
        "\n",
        "    #Calculating the peak width (marks the edges of the cell)\n",
        "    left_peak, right_peak, edge_left, edge_right, left_peak_to_edge, right_peak_to_edge = calc_edge(mask_width)\n",
        "\n",
        "    #Detecting bad mask\n",
        "    box = None\n",
        "    #if new_bad_mask(j, mask_width, left_peak_to_edge, right_peak_to_edge):\n",
        "      #print('Bad Mask New!!!')\n",
        "    if bad_mask(j, mask_width, left_peak_to_edge, right_peak_to_edge):\n",
        "      print('Bad Mask')\n",
        "      #Method 1: Simple threshold all mask width below 120 to 0\n",
        "      for i in range(len(mask_width)):\n",
        "        if mask_width[i] < 80:\n",
        "          mask_width[i] = 0\n",
        "          mask[:, i] = False\n",
        "      __, __, edge_left, edge_right, new_left_peak_to_edge, new_right_peak_to_edge = calc_edge(mask_width)\n",
        "\n",
        "      #Other possible methods:\n",
        "      #move the negative points / add more positive points\n",
        "\n",
        "\n",
        "      if bad_mask(j, mask_width, new_left_peak_to_edge, new_right_peak_to_edge):\n",
        "        print('Please proceed to the next cell and manually draw bounding box for this image')\n",
        "        #Method 3: Prompt user for manual input to set mask\n",
        "        bad_image_index.append(k)\n",
        "        bad_image = True\n",
        "\n",
        "    #Calculate area in micron of mask\n",
        "    binary_mask1 = mask > 0\n",
        "\n",
        "    labeled_img, num_features = ndi.label(binary_mask1)\n",
        "    size_threshold = 1000\n",
        "\n",
        "    component_sizes = np.bincount(labeled_img.ravel())\n",
        "    too_small = component_sizes < size_threshold\n",
        "    too_small_mask = too_small[labeled_img]\n",
        "    binary_mask1[too_small_mask] = 0\n",
        "\n",
        "    np.save(os.path.join(mask_dir, f\"mask_{k+1}.npy\"), binary_mask1)\n",
        "    mask_area_micron = np.sum(binary_mask1) / (2.4089**2)\n",
        "    area.append(mask_area_micron)\n",
        "    area.append('CELL')\n",
        "    area_pixel.append(np.sum(binary_mask1))\n",
        "    area_pixel.append('CELL')\n",
        "\n",
        "    length_pixel = edge_right - edge_left\n",
        "    length_micron = length_pixel / 2.4089\n",
        "    length.append(length_micron)\n",
        "    length.append('CELL')\n",
        "\n",
        "    #find contour points for future analysis\n",
        "    contour_points = find_contour_points(binary_mask1)\n",
        "    contour.append(contour_points)\n",
        "    rough_contour_points = find_rough_contour(binary_mask1)\n",
        "    voronoi_contour.append(rough_contour_points)\n",
        "\n",
        "    #Display Segmented result\n",
        "    plt.figure(figsize=(10,10))\n",
        "    plt.imshow(image_rgb)\n",
        "    show_mask(binary_mask1, plt.gca())\n",
        "    show_points(input_point, input_label, plt.gca())\n",
        "    plt.title(f\"Mask {i+1}, N point coordinate: {j}\", fontsize=18)\n",
        "    plt.subplots_adjust(left=0, right=1, top=1, bottom=0)\n",
        "    image_name = f\"image_{k+1}.png\"\n",
        "    plt.savefig(os.path.join(full_directory, image_name), bbox_inches='tight', pad_inches=0)\n",
        "    plt.show()\n",
        "    print('Image index:', k)\n",
        "\n",
        "area.pop()\n",
        "area_pixel.pop()\n",
        "length.pop()"
      ]
    },
    {
      "cell_type": "markdown",
      "metadata": {
        "id": "lsBntDPvqZTu"
      },
      "source": [
        "##Manually Cell Border Mask Correction"
      ]
    },
    {
      "cell_type": "markdown",
      "metadata": {
        "id": "USZcw538qm00"
      },
      "source": [
        "Here's the code that allows you to manually correct cell border mask. If you noticed an incorrect cell border mask output by the code above, enter that corresponding image index below into \"bad_mask_index\". Then run this code, and it will display the image that generated an incorrect cell border mask. Then on that image, you can draw a bounding box to surround the cell by dragging your mouse, click to add a positive point to the image (positive point tells the AI to create a mask around the area you added the point), or you can do both! However, if you want to both provide a positive point and a bounding box, you must add the point first before drawing a bounding box on top of it. After finished, simply click the submit button. you can You can play around with this interactive prompt to get familiar with it."
      ]
    },
    {
      "cell_type": "code",
      "execution_count": null,
      "metadata": {
        "id": "iZn5WWZf7Ong"
      },
      "outputs": [],
      "source": [
        "IS_COLAB = True\n",
        "\n",
        "if IS_COLAB:\n",
        "    from google.colab import output\n",
        "    output.enable_custom_widget_manager()\n",
        "from jupyter_bbox_widget import BBoxWidget\n",
        "\n",
        "#Change the current_index each time if multiple images need manual segmentation\n",
        "bad_mask_index = 3\n",
        "print('You can use your mouse to click on the image to insert positive points and/or draw bounding box')\n",
        "bad_image_rgb = cv2.cvtColor(genotype[bad_mask_index][:,:,0+dystrophin], cv2.COLOR_BGR2RGB)\n",
        "widget = BBoxWidget()\n",
        "widget.image = encode_image(bad_image_rgb)\n",
        "widget"
      ]
    },
    {
      "cell_type": "markdown",
      "metadata": {
        "id": "3DFWlKohdJRJ"
      },
      "source": [
        "After submitting your input to the AI, run the code below, and an image with a new cell border mask would be displayed below. If you are not satisfied with the new cell border mask generated, try adjusting the bounding box or positive point above. Then click submit and run the code below again."
      ]
    },
    {
      "cell_type": "code",
      "execution_count": null,
      "metadata": {
        "id": "s0GcXxQRtH-q"
      },
      "outputs": [],
      "source": [
        "positive_point = None\n",
        "box = None\n",
        "if len(widget.bboxes) > 1:\n",
        "  if widget.bboxes[0]['width'] == 0:\n",
        "    box = widget.bboxes[1]\n",
        "    box = np.array([\n",
        "        box['x'],\n",
        "        box['y'],\n",
        "        box['x'] + box['width'],\n",
        "        box['y'] + box['height']\n",
        "    ])\n",
        "    positive_point = widget.bboxes[0]\n",
        "    positive_point = np.array([\n",
        "        positive_point['x'],\n",
        "        positive_point['y']\n",
        "    ])\n",
        "  else:\n",
        "    box = widget.bboxes[0]\n",
        "    box = np.array([\n",
        "        box['x'],\n",
        "        box['y'],\n",
        "        box['x'] + box['width'],\n",
        "        box['y'] + box['height']\n",
        "    ])\n",
        "    positive_point = widget.bboxes[1]\n",
        "    positive_point = np.array([\n",
        "        positive_point['x'],\n",
        "        positive_point['y']\n",
        "    ])\n",
        "else:\n",
        "  if widget.bboxes[0]['width'] == 0:\n",
        "    positive_point = widget.bboxes[0]\n",
        "    positive_point = np.array([\n",
        "        positive_point['x'],\n",
        "        positive_point['y']\n",
        "    ])\n",
        "  else:\n",
        "    box = widget.bboxes[0]\n",
        "    box = np.array([\n",
        "        box['x'],\n",
        "        box['y'],\n",
        "        box['x'] + box['width'],\n",
        "        box['y'] + box['height']\n",
        "    ])\n",
        "\n",
        "if box is None:\n",
        "  box_point_mask, __, points, point_label = set_mask(bad_image_rgb, j, input_points = positive_point)\n",
        "\n",
        "elif positive_point is None:\n",
        "  box_point_mask, __, points, point_label = set_mask(bad_image_rgb, j, box)\n",
        "\n",
        "else:\n",
        "  box_point_mask, __, points, point_label = set_mask(bad_image_rgb, j, box, positive_point)\n",
        "\n",
        "binary_mask1 = box_point_mask[0] > 0\n",
        "\n",
        "binary_mask1 = binary_closing(binary_mask1, np.ones([5,5]), iterations = 1)\n",
        "binary_mask1 = binary_opening(binary_mask1, np.ones([5,5]), iterations = 1)\n",
        "\n",
        "labeled_img, num_features = ndi.label(binary_mask1)\n",
        "size_threshold = 5000\n",
        "\n",
        "component_sizes = np.bincount(labeled_img.ravel())\n",
        "too_small = component_sizes < size_threshold\n",
        "too_small_mask = too_small[labeled_img]\n",
        "binary_mask1[too_small_mask] = 0\n",
        "\n",
        "#Display Segmented result\n",
        "plt.figure(figsize=(10,10))\n",
        "plt.imshow(bad_image_rgb)\n",
        "show_mask(binary_mask1, plt.gca())\n",
        "if positive_point is not None:\n",
        "  show_points(points, point_label, plt.gca())\n",
        "#plt.axis('off')\n",
        "plt.subplots_adjust(left=0, right=1, top=1, bottom=0)\n",
        "#image_name = f\"image_{k+1}.png\"\n",
        "#plt.savefig(os.path.join(full_directory, image_name), bbox_inches='tight', pad_inches=0)\n",
        "if box is not None:\n",
        "  show_box(box, plt.gca())\n",
        "plt.show()"
      ]
    },
    {
      "cell_type": "markdown",
      "metadata": {
        "id": "CDUHlHOoecP8"
      },
      "source": [
        "If you are satisfied with the segmentation result, then run the code below to save the segmentation mask and cell area. After saving these data, if there are more bad mask images needed to be correct, then repeat the three steps again (enter bad image index, draw bounding box and submit, and saving the measurements if result is satisfactory)"
      ]
    },
    {
      "cell_type": "code",
      "execution_count": null,
      "metadata": {
        "id": "Nl2uIeYjtvZ_"
      },
      "outputs": [],
      "source": [
        "file_path = os.path.join(mask_dir, f\"mask_{bad_mask_index+1}.npy\")\n",
        "os.remove(file_path)\n",
        "np.save(os.path.join(mask_dir, f\"mask_{bad_mask_index+1}.npy\"), binary_mask1)\n",
        "mask_area_micron = np.sum(binary_mask1) / (2.4089**2)\n",
        "area[bad_mask_index*2] = mask_area_micron\n",
        "new_contour = find_contour_points(binary_mask1)\n",
        "contour[bad_mask_index] = new_contour\n",
        "new_voronoi_contour = find_rough_contour(binary_mask1)\n",
        "voronoi_contour[bad_mask_index] = new_voronoi_contour\n"
      ]
    },
    {
      "cell_type": "markdown",
      "metadata": {
        "id": "Xt_-_U9srH5m"
      },
      "source": [
        "##Nuclei Z-planes Visualization"
      ]
    },
    {
      "cell_type": "markdown",
      "metadata": {
        "id": "seW_hLQJrH5a"
      },
      "source": [
        "After cell border mask is done, the next important step of doing nuclei segmentation. However, there are cases when nuclei appearing within a cell are actually incorrect signals coming from focal planes above or below the actual cell. This issue can often be solved by removing the outer z-planes from the image.Therefore, this code will visualize all the z-planes of the nuclei channel within an image, and also setting a percentage for what proportion of Z-planes to be included in the image. You can change the \"percentage\" variable in the code below."
      ]
    },
    {
      "cell_type": "code",
      "execution_count": null,
      "metadata": {
        "collapsed": true,
        "id": "kKM5J3Foypz5"
      },
      "outputs": [],
      "source": [
        "def display_image_z(sub_folder, nuclei):\n",
        "    folder_path = os.path.join(base_directory, sub_folder)\n",
        "    filename = os.listdir(folder_path)\n",
        "    sorted_filenames = sorted(filename, key=lambda x: (int(x.split()[1].split('.')[0]), int(x.split()[1].split('.')[1])))\n",
        "\n",
        "    for filename in sorted_filenames:\n",
        "        if filename.endswith('.czi'):\n",
        "            print(filename)\n",
        "            file_path = os.path.join(folder_path, filename)\n",
        "            img = AICSImage(file_path)\n",
        "            channel_img = []\n",
        "            #Change the percentage of z-planes to be stacked\n",
        "            percentage = 0.8\n",
        "            planes = int(img.shape[2] * percentage)\n",
        "            for z in range(planes):\n",
        "              image = img.get_image_data('YX', Z = z, C = 2+dystrophin)\n",
        "              image = cv2.rotate(image, cv2.ROTATE_90_COUNTERCLOCKWISE)\n",
        "              image = im_adjust(image, autoscale = 'uint8')\n",
        "              plt.imshow(image)\n",
        "              plt.show()\n",
        "            for c in range(img.shape[1]):\n",
        "              image = img.get_image_data(\"ZYX\", C=c)\n",
        "              image = image[:planes]\n",
        "              image = np.max(image, axis = 0)\n",
        "              channel_img.append(cv2.rotate(image, cv2.ROTATE_90_COUNTERCLOCKWISE))\n",
        "            stacked_image = np.stack(channel_img, axis=-1)\n",
        "            uint8_stacked = im_adjust(stacked_image, autoscale = 'uint8')\n",
        "            nuclei.append(uint8_stacked[:,:,2+dystrophin])\n",
        "nuclei_list = []\n",
        "display_image_z(folder_name, nuclei_list)"
      ]
    },
    {
      "cell_type": "markdown",
      "metadata": {
        "id": "gZaJ9EpHWaUB"
      },
      "source": [
        "##Nuclei Segmentation"
      ]
    },
    {
      "cell_type": "markdown",
      "metadata": {
        "id": "zkGXMnHUf1ns"
      },
      "source": [
        "The code below is the second important part of the analysis: locating each nuclei segmentation and saving the coordinates of each nucleus center. The technique used is called simple thresholding. Basically, a pixel threshold would be set, and any pixels with intensity above this threshold would be included into a segment. Therefore, in the nuclei channel image where everything is dark except for the nuclei, simple thresholding should work well. Again, this code is not 100% accurate, so there are three variables you may change to have a better result.\n",
        "1. pixel threshold: a higher threshold will pick up less nuclei signal (also pick up less noise)\n",
        "2. size threshold: a higher threshold will only select larger segments.\n",
        "3. Gaussian blur parameter: you must enter an odd number. A higher number means the image will be more blurry --> higher possibility of filling holes in the nuclei and merging nuclei close apart.\n",
        "4. Optimal window: a higher value means the algorithm will be less likely to split merged segments into two individual ones.\n"
      ]
    },
    {
      "cell_type": "code",
      "execution_count": null,
      "metadata": {
        "collapsed": true,
        "id": "GHR5ESt3O4MH"
      },
      "outputs": [],
      "source": [
        "#Three parameters that you may need to change:\n",
        "pixel_threshold = 3\n",
        "size_threshold = 650\n",
        "gaussian_blur = 15\n",
        "optima_window_size = 45\n",
        "\n",
        "nuclei = []\n",
        "x = []\n",
        "y = []\n",
        "x_pixel = []\n",
        "y_pixel = []\n",
        "distance_to_edge = []\n",
        "closest_edge = []\n",
        "n_animal = []\n",
        "x_animal = []\n",
        "nuclei_num = []\n",
        "n_animal.append(0)\n",
        "x_animal.append(0)\n",
        "nuclei_num.append(0)\n",
        "\n",
        "for k, image in enumerate(nuclei_list):\n",
        "  nuclei.append(1)\n",
        "  nuclei.append(2)\n",
        "  mask_path = os.path.join(mask_dir, f\"mask_{k+1}.npy\")\n",
        "  loaded_mask = np.load(mask_path)\n",
        "  image_rgb = cv2.cvtColor(image, cv2.COLOR_BGR2RGB)\n",
        "  masked_image = image_rgb * loaded_mask[..., None]\n",
        "  masked_image = cv2.cvtColor(masked_image, cv2.COLOR_RGB2GRAY)\n",
        "  print('Image', k+1)\n",
        "  plt.figure(figsize=(20,20))\n",
        "  plt.subplot(121)\n",
        "  plt.imshow(image_rgb)\n",
        "  plt.subplot(122)\n",
        "  plt.imshow(masked_image)\n",
        "  plt.show()\n",
        "\n",
        "  blurred = cv2.GaussianBlur(masked_image,(gaussian_blur, gaussian_blur),0)\n",
        "\n",
        "  bin_img = blurred > pixel_threshold\n",
        "  #bin_img = binary_opening(bin_img, np.ones((5, 5)))\n",
        "  bin_img = binary_fill_holes(bin_img)\n",
        "  labeled_img, num_features = ndi.label(bin_img)\n",
        "\n",
        "  component_sizes = np.bincount(labeled_img.ravel())\n",
        "  too_small = component_sizes < size_threshold\n",
        "  too_small_mask = too_small[labeled_img]\n",
        "  bin_img[too_small_mask] = 0\n",
        "  plt.figure(figsize=(20,20))\n",
        "  plt.imshow(bin_img)\n",
        "  plt.show()\n",
        "\n",
        "  distance = ndi.distance_transform_edt(bin_img)\n",
        "\n",
        "  coords = peak_local_max(distance, footprint=np.ones((optima_window_size, optima_window_size)), labels=bin_img)\n",
        "  ycoord, xcoord = zip(*coords)\n",
        "  merged_coords = merge_close_coords(list(zip(ycoord, xcoord)), threshold=10)\n",
        "  merged_coords = [(int(x), int(y)) for x, y in merged_coords]  # Ensure integer coordinates\n",
        "  ycoords, xcoords = zip(*merged_coords)\n",
        "\n",
        "  #Calculate closest nuclei to edge distance\n",
        "\n",
        "  closest_edges = []\n",
        "  distance_to_edges = []\n",
        "  for i in range(len(xcoords)):\n",
        "    min_distance = float('inf')\n",
        "    closest_point = None\n",
        "    for border in contour[k]:\n",
        "      d = find_distance([xcoords[i], ycoords[i]], border)\n",
        "      if d < min_distance:\n",
        "        min_distance = d\n",
        "        closest_point = border\n",
        "\n",
        "    closest_edges.append(closest_point)\n",
        "    distance_micron = min_distance / 2.4089\n",
        "    distance_to_edges.append(distance_micron)\n",
        "\n",
        "  closest_edge.extend(closest_edges)\n",
        "  distance_to_edge.extend(distance_to_edges)\n",
        "\n",
        "  #convert x y coordinates to micron\n",
        "  micron_x = []\n",
        "  micron_y = []\n",
        "  pixel_x = []\n",
        "  pixel_y = []\n",
        "  for i in range(len(xcoords)):\n",
        "    micron_x.append(xcoords[i] / 2.4089)\n",
        "    micron_y.append(ycoords[i] / 2.4089)\n",
        "    pixel_x.append(xcoords[i])\n",
        "    pixel_y.append(ycoords[i])\n",
        "  x.extend(micron_x)\n",
        "  y.extend(micron_y)\n",
        "  x_pixel.extend(pixel_x)\n",
        "  y_pixel.extend(pixel_y)\n",
        "\n",
        "  # Create markers for watershed\n",
        "  mask = np.zeros(distance.shape, dtype=bool)\n",
        "  mask[tuple(np.array(merged_coords).T)] = True\n",
        "  markers, _ = ndi.label(mask)\n",
        "\n",
        "  # Apply watershed algorithm\n",
        "  seg_watershed = watershed(-distance, markers, mask=bin_img)\n",
        "\n",
        "  plt.figure(figsize=(20,20))\n",
        "  plt.imshow(seg_watershed)\n",
        "  plt.scatter(xcoords, ycoords, c='red', s=5)\n",
        "  plt.show()\n",
        "  nuclei.extend(range(3, 3+len(merged_coords)))\n",
        "\n",
        "  nuclei.append('CELL')\n",
        "  x.append('CELL')\n",
        "  y.append('CELL')\n",
        "  x_pixel.append('CELL')\n",
        "  y_pixel.append('CELL')\n",
        "  closest_edge.append('CELL')\n",
        "  distance_to_edge.append('CELL')\n",
        "  nuclei_num.append(len(closest_edge))\n",
        "  for i in range(1, len(a_animal)):\n",
        "    if (k+1)*2 == a_animal[i]:\n",
        "      n_animal.append(len(nuclei))\n",
        "      x_animal.append(len(x))\n",
        "nuclei.pop()\n",
        "x.pop()\n",
        "y.pop()\n",
        "distance_to_edge.pop()\n",
        "closest_edge.pop()\n",
        "x_pixel.pop()\n",
        "y_pixel.pop()"
      ]
    },
    {
      "cell_type": "markdown",
      "metadata": {
        "id": "cpdC2fJxwuYg"
      },
      "source": [
        "If not satisfied with the segmentation results, you may go back to the code above and change the three listed parameters and try again."
      ]
    },
    {
      "cell_type": "markdown",
      "metadata": {
        "id": "ucVE7d8bbKP3"
      },
      "source": [
        "##Display Nuclei to Edge Distance"
      ]
    },
    {
      "cell_type": "markdown",
      "source": [
        "The code below is for visualizing the closest nuclei to edge distances for each nuclei"
      ],
      "metadata": {
        "id": "Ez05pnwwf6t0"
      }
    },
    {
      "cell_type": "code",
      "execution_count": null,
      "metadata": {
        "id": "RhW-HUIqhrbI"
      },
      "outputs": [],
      "source": [
        "for i in range(len(nuclei_num)-1):\n",
        "  plt.figure(figsize=(20,20))\n",
        "  for k in range(nuclei_num[i], nuclei_num[i+1] - 1):\n",
        "      plt.imshow(nuclei_list[i], cmap = 'gray')\n",
        "      plt.plot([x_pixel[k], closest_edge[k][0]], [y_pixel[k], closest_edge[k][1]], linestyle='-', linewidth=5, color='blue')\n",
        "      plt.scatter([x_pixel[k], closest_edge[k][0]], [y_pixel[k], closest_edge[k][1]], color='red', s = 100)\n",
        "      x_contour = [points[0] for points in contour[i]]\n",
        "      y_contour = [points[1] for points in contour[i]]\n",
        "      plt.plot(x_contour, y_contour, linestyle='-', linewidth=2, color='red')\n",
        "      plt.plot()\n",
        "  plt.show()"
      ]
    },
    {
      "cell_type": "markdown",
      "metadata": {
        "id": "V-CWsZzQQoSC"
      },
      "source": [
        "## Voronoi Polygon Visualization"
      ]
    },
    {
      "cell_type": "markdown",
      "source": [
        "Run this code to load helper functions needed for Voronoi diagram generation"
      ],
      "metadata": {
        "id": "cZ6aY6MSg9_Y"
      }
    },
    {
      "cell_type": "code",
      "execution_count": null,
      "metadata": {
        "collapsed": true,
        "id": "_iwsDRDCCTwT"
      },
      "outputs": [],
      "source": [
        "from scipy.spatial import Voronoi, voronoi_plot_2d\n",
        "import geopandas as gpd\n",
        "import pandas as pd\n",
        "from shapely.geometry import Polygon\n",
        "from scipy.ndimage.morphology import binary_erosion\n",
        "from sklearn.neighbors import KDTree\n",
        "from os.path import exists\n",
        "import matplotlib.patches as patches\n",
        "import matplotlib.path as mpath\n",
        "import random\n",
        "from shapely.geometry import MultiPolygon\n",
        "\n",
        "def voronoi_finite_polygons_2d(vor, boundary=None):\n",
        "    new_regions = []\n",
        "    new_vertices = vor.vertices.tolist()\n",
        "\n",
        "    center = vor.points.mean(axis=0)\n",
        "    if boundary is None:\n",
        "        radius = vor.points.ptp().max() * 10\n",
        "    else:\n",
        "        radius = np.max(np.linalg.norm(boundary - center, axis=1)) * 10\n",
        "\n",
        "    all_ridges = {}\n",
        "    for (p1, p2), (v1, v2) in zip(vor.ridge_points, vor.ridge_vertices):\n",
        "        all_ridges.setdefault(p1, []).append((p2, v1, v2))\n",
        "        all_ridges.setdefault(p2, []).append((p1, v1, v2))\n",
        "\n",
        "    for p1, region in enumerate(vor.point_region):\n",
        "        vertices = vor.regions[region]\n",
        "\n",
        "        if all(v >= 0 for v in vertices):\n",
        "            new_regions.append(vertices)\n",
        "            continue\n",
        "\n",
        "        ridges = all_ridges[p1]\n",
        "        new_region = [v for v in vertices if v >= 0]\n",
        "\n",
        "        for p2, v1, v2 in ridges:\n",
        "            if v2 < 0:\n",
        "                v1, v2 = v2, v1\n",
        "            if v1 >= 0:\n",
        "                continue\n",
        "\n",
        "            t = vor.points[p2] - vor.points[p1]\n",
        "            t /= np.linalg.norm(t)\n",
        "            n = np.array([-t[1], t[0]])\n",
        "\n",
        "            midpoint = vor.points[[p1, p2]].mean(axis=0)\n",
        "            direction = np.sign(np.dot(midpoint - center, n)) * n\n",
        "            far_point = vor.vertices[v2] + direction * radius\n",
        "\n",
        "            new_region.append(len(new_vertices))\n",
        "            new_vertices.append(far_point.tolist())\n",
        "\n",
        "        vs = np.asarray([new_vertices[v] for v in new_region])\n",
        "        c = vs.mean(axis=0)\n",
        "        angles = np.arctan2(vs[:, 1] - c[1], vs[:, 0] - c[0])\n",
        "        new_region = np.array(new_region)[np.argsort(angles)]\n",
        "\n",
        "        new_regions.append(new_region.tolist())\n",
        "\n",
        "    return new_regions, np.asarray(new_vertices)"
      ]
    },
    {
      "cell_type": "markdown",
      "source": [
        "This code will generate voronoi diagram for each muscle images using the cell borders and nuclei coordinates generated from previous codes."
      ],
      "metadata": {
        "id": "x8tckzyhhG07"
      }
    },
    {
      "cell_type": "code",
      "execution_count": null,
      "metadata": {
        "id": "u8TtuC5gDIQh"
      },
      "outputs": [],
      "source": [
        "polygon_area = []\n",
        "empty_directory(voronoi_dir)\n",
        "animal_index = []\n",
        "for num in a_animal:\n",
        "  animal_index.append(num/2)\n",
        "which_animal = 1\n",
        "for i in range(len(nuclei_num) - 1):\n",
        "    if which_animal < len(animal_index):\n",
        "      if i == animal_index[which_animal]:\n",
        "        which_animal += 1\n",
        "    which_cell = i-animal_index[which_animal-1]+1\n",
        "    nuclei_points = [[x, y] for x, y in zip(x_pixel[nuclei_num[i]: nuclei_num[i + 1] - 1],\n",
        "                                            y_pixel[nuclei_num[i]: nuclei_num[i + 1]])]\n",
        "    nuclei_points = np.array(nuclei_points)\n",
        "    border_points = voronoi_contour[i]\n",
        "    boundary = Polygon(border_points)\n",
        "    vor = Voronoi(nuclei_points)\n",
        "    regions, vertices = voronoi_finite_polygons_2d(vor, border_points)\n",
        "\n",
        "    fig, ax = plt.subplots()\n",
        "\n",
        "    boundary_patch = patches.Polygon(np.array(boundary.exterior.coords), closed=True, edgecolor='black', facecolor='none', linewidth=2)\n",
        "    ax.add_patch(boundary_patch)\n",
        "\n",
        "    # Plot the clipped Voronoi regions with different colors\n",
        "\n",
        "    for region in regions:\n",
        "        polygon = vertices[region]\n",
        "        poly = Polygon(polygon)\n",
        "        poly = poly.intersection(boundary)\n",
        "        if isinstance(poly, MultiPolygon):\n",
        "          print('multiPolygon')\n",
        "          for sub_poly in poly.geoms:  # Access individual polygons with .geoms\n",
        "            if not sub_poly.is_empty:\n",
        "                poly_area = sub_poly.area / (2.4089**2)\n",
        "                polygon_area.append(poly_area)\n",
        "                # Generate a random color\n",
        "                color = [random.random(), random.random(), random.random()]\n",
        "                patch = patches.Polygon(np.array(sub_poly.exterior.coords), edgecolor='blue', facecolor=color, alpha=0.4)\n",
        "                ax.add_patch(patch)\n",
        "        else:\n",
        "          if not poly.is_empty:\n",
        "              poly_area = poly.area / (2.4089**2)\n",
        "              polygon_area.append(poly_area)\n",
        "              # Generate a random color\n",
        "              color = [random.random(), random.random(), random.random()]\n",
        "              patch = patches.Polygon(np.array(poly.exterior.coords), edgecolor='blue', facecolor=color, alpha=0.4)\n",
        "              ax.add_patch(patch)\n",
        "\n",
        "    polygon_area.append(\"CELL\")\n",
        "    # Plot the points\n",
        "    ax.plot(nuclei_points[:, 0], nuclei_points[:, 1], 'ro', markersize=4)\n",
        "\n",
        "    # Set equal aspect ratio\n",
        "    ax.set_aspect('equal', adjustable='box')\n",
        "\n",
        "    # Overlay the Voronoi diagram on the original images\n",
        "    grayscale_image = cv2.cvtColor(genotype[i], cv2.COLOR_BGR2GRAY)\n",
        "    ax.imshow(grayscale_image, cmap='gray', extent=(0, genotype[i].shape[1], 0, genotype[i].shape[0]), origin='lower')\n",
        "    plt.xlim(0, genotype[i].shape[1])\n",
        "    plt.ylim(genotype[i].shape[0], 0)\n",
        "\n",
        "    ax.axis('off')\n",
        "    plt.tight_layout(pad=0)\n",
        "    plt.savefig(os.path.join(voronoi_dir, f'Voronoi {int(which_animal)}.{int(which_cell)}.jpg'), format='jpg', dpi=300, bbox_inches='tight', pad_inches=0)\n",
        "    plt.show()"
      ]
    },
    {
      "cell_type": "markdown",
      "source": [
        "Run this code to download a zip file containing each of these voronoi diagram images generated."
      ],
      "metadata": {
        "id": "LK3kQGfahen7"
      }
    },
    {
      "cell_type": "code",
      "source": [
        "shutil.make_archive('/content/voronoi_diagrams', 'zip', voronoi_dir)\n",
        "files.download('/content/voronoi_diagrams.zip')"
      ],
      "metadata": {
        "id": "g_xw9mA5r2EI"
      },
      "execution_count": null,
      "outputs": []
    },
    {
      "cell_type": "markdown",
      "metadata": {
        "id": "bRgeAMTLWwJH"
      },
      "source": [
        "##Muscle Data Analysis"
      ]
    },
    {
      "cell_type": "markdown",
      "metadata": {
        "id": "Kb_ndYzXgcS_"
      },
      "source": [
        "By this point, all the muscle data including cell border, area, length, xy coordinates of nuclei have been generated by the code above. They can be directly inputted into our original muscle analysis code for further analysis. Run these two codes below, and (hopefully) the Muscle Analysis Template.xlsx should be updated with analysis data such as AI ratio and internuclear distance etc. Double click that file to download it onto your computer for statistic analysis."
      ]
    },
    {
      "cell_type": "code",
      "execution_count": null,
      "metadata": {
        "id": "O_9yyN-EbDrO"
      },
      "outputs": [],
      "source": [
        "n_animal.append(len(nuclei) + 1)\n",
        "a_animal.append(len(area) + 1)\n",
        "x_animal.append(len(x) + 1)"
      ]
    },
    {
      "cell_type": "code",
      "execution_count": null,
      "metadata": {
        "id": "-9peYX2Ai6tK"
      },
      "outputs": [],
      "source": [
        "def main(wb_name, ws_name):\n",
        "    #reading in and formatting lists of data from the input file\n",
        "    #finding indices of every 'ANIMAL' delimeter in the lists so we can\n",
        "    #pass in the correct number of muscles at a time\n",
        "\n",
        "    #passing in chunks of data into the MuscleAnalysis.py script\n",
        "    #passes data from index 0 to first 'ANIMAL' delimeter, then from first to second 'ANIMAL' delimeter, and so on\n",
        "\n",
        "    for i in range(len(n_animal) - 1):\n",
        "      ma.main(nuclei[n_animal[i] : n_animal[i + 1] - 1],\n",
        "              area[a_animal[i] : a_animal[i + 1] - 1],\n",
        "              x[x_animal[i] : x_animal[i + 1] - 1],\n",
        "              y[x_animal[i] : x_animal[i + 1] - 1],\n",
        "              length[a_animal[i] : a_animal[i + 1] - 1],\n",
        "              distance_to_edge[x_animal[i] : x_animal[i + 1] - 1],\n",
        "              polygon_area[x_animal[i] : x_animal[i + 1] - 1],\n",
        "              wb_name, ws_name, i)\n",
        "\n",
        "    #writing data and calculations to excel output file\n",
        "    wb = load_workbook(wb_name)\n",
        "    try:\n",
        "      ws = wb['Sheet']\n",
        "      ws.title = 'Summary'\n",
        "    except:\n",
        "      ws = wb.create_sheet('Summary')\n",
        "    ws['A1'] = 'Muscle'\n",
        "    ws['B1'] = 'Number of Nuclei'\n",
        "    ws['C1'] = 'Ave Internuclear Distance'\n",
        "    ws['D1'] = 'Muscle Length'\n",
        "    ws['E1'] = 'Muscle Area'\n",
        "    ws['F1'] = 'Ave A:I Ratio'\n",
        "    ws['G1'] = 'Voronoi Area COV'\n",
        "    ws['H1'] = 'Nuclei to Edge Distance'\n",
        "\n",
        "    nuclei_nums = []\n",
        "    ave_inter_nuc_dists = []\n",
        "    mus_lens = []\n",
        "    mus_areas = []\n",
        "    ave_AI_rat = []\n",
        "    ave_voronoi_cov = []\n",
        "    ave_nuclei_to_edge = []\n",
        "\n",
        "    c_row = 2\n",
        "    for sheet in wb:\n",
        "        if sheet.title == 'Summary':\n",
        "            continue\n",
        "        break_points = []\n",
        "        for i in range(len(sheet['A'])):\n",
        "            val = str(sheet['A' + str(i + 1)].value)\n",
        "            if 'Muscle:' in val:\n",
        "                break_points.append(i + 1)\n",
        "        for val in break_points:\n",
        "            ws['A' + str(c_row)] = sheet['A' + str(val)].value[7:]\n",
        "            if sheet['B' + str(val)] == 'NO DATA':\n",
        "                ws['B' + str(c_row)] = 'NO DATA'\n",
        "                c_row += 1\n",
        "                continue\n",
        "            ws['B' + str(c_row)] = sheet['B' + str(val + 1)].value\n",
        "            nuclei_nums.append(sheet['B' + str(val + 1)].value)\n",
        "\n",
        "            ws['C' + str(c_row)] = sheet['D' + str(val + 1)].value\n",
        "            ave_inter_nuc_dists.append(sheet['D' + str(val + 1)].value)\n",
        "\n",
        "            ws['D' + str(c_row)] = sheet['F' + str(val + 1)].value\n",
        "            mus_lens.append(sheet['F' + str(val + 1)].value)\n",
        "\n",
        "            ws['E' + str(c_row)] = sheet['G' + str(val + 1)].value\n",
        "            mus_areas.append(sheet['G' + str(val + 1)].value)\n",
        "\n",
        "            ws['F' + str(c_row)] = sheet['I' + str(val + 1)].value\n",
        "            ave_AI_rat.append(sheet['I' + str(val + 1)].value)\n",
        "\n",
        "            ws['G' + str(c_row)] = sheet['K' + str(val + 1)].value\n",
        "            ave_voronoi_cov.append(sheet['K' + str(val + 1)].value)\n",
        "\n",
        "            ws['H' + str(c_row)] = sheet['O' + str(val + 1)].value\n",
        "            ave_nuclei_to_edge.append(sheet['O' + str(val + 1)].value)\n",
        "            c_row += 1\n",
        "    wb.save(wb_name)\n",
        "    return nuclei_nums, ave_inter_nuc_dists, mus_lens, mus_areas, ave_AI_rat\n",
        "\n",
        "#formatting an output CSV file with the calculated data to be passed into R (or into the code blocks below)\n",
        "num, dist, lens, areas, ratio = main(dfo, genotype_name)\n",
        "df = pd.DataFrame({'Genotype': [genotype_name for x in range(len(dist))],\n",
        "                  'NumNuclei': num,\n",
        "                  'InternuclearDistance': dist,\n",
        "                  'MuscleLength': lens,\n",
        "                  'MuscleArea': areas,\n",
        "                  'A:IRatio': ratio})\n",
        "df.to_csv(genotype_name + '-RInput.csv', encoding = 'utf-8-sig')"
      ]
    }
  ],
  "metadata": {
    "accelerator": "GPU",
    "colab": {
      "gpuType": "T4",
      "provenance": []
    },
    "kernelspec": {
      "display_name": "Python 3",
      "name": "python3"
    },
    "language_info": {
      "name": "python"
    }
  },
  "nbformat": 4,
  "nbformat_minor": 0
}